{
 "cells": [
  {
   "cell_type": "code",
   "execution_count": 1,
   "id": "f025dcc1-2e25-4a04-95ea-fab5b06e41bc",
   "metadata": {
    "tags": []
   },
   "outputs": [],
   "source": [
    "from aiogram import Bot, Dispatcher, executor, types\n",
    "import nest_asyncio\n",
    "import os\n",
    "\n",
    "import requests as req\n",
    "from bs4 import BeautifulSoup\n",
    "\n",
    "import os\n",
    "import signal\n",
    "import subprocess\n",
    "import psutil"
   ]
  },
  {
   "cell_type": "code",
   "execution_count": null,
   "id": "09e8cb24-a0da-4257-ab15-140b1693d693",
   "metadata": {
    "tags": []
   },
   "outputs": [
    {
     "name": "stderr",
     "output_type": "stream",
     "text": [
      "Updates were skipped successfully.\n",
      "C:\\anaconda3\\envs\\torch\\Lib\\site-packages\\urllib3\\connectionpool.py:1103: InsecureRequestWarning: Unverified HTTPS request is being made to host 'bestdavid.ru'. Adding certificate verification is strongly advised. See: https://urllib3.readthedocs.io/en/latest/advanced-usage.html#tls-warnings\n",
      "  warnings.warn(\n",
      "C:\\anaconda3\\envs\\torch\\Lib\\site-packages\\urllib3\\connectionpool.py:1103: InsecureRequestWarning: Unverified HTTPS request is being made to host 'bestdavid.ru'. Adding certificate verification is strongly advised. See: https://urllib3.readthedocs.io/en/latest/advanced-usage.html#tls-warnings\n",
      "  warnings.warn(\n",
      "C:\\anaconda3\\envs\\torch\\Lib\\site-packages\\urllib3\\connectionpool.py:1103: InsecureRequestWarning: Unverified HTTPS request is being made to host 'bestdavid.ru'. Adding certificate verification is strongly advised. See: https://urllib3.readthedocs.io/en/latest/advanced-usage.html#tls-warnings\n",
      "  warnings.warn(\n",
      "C:\\anaconda3\\envs\\torch\\Lib\\site-packages\\urllib3\\connectionpool.py:1103: InsecureRequestWarning: Unverified HTTPS request is being made to host 'bestdavid.ru'. Adding certificate verification is strongly advised. See: https://urllib3.readthedocs.io/en/latest/advanced-usage.html#tls-warnings\n",
      "  warnings.warn(\n",
      "C:\\anaconda3\\envs\\torch\\Lib\\site-packages\\urllib3\\connectionpool.py:1103: InsecureRequestWarning: Unverified HTTPS request is being made to host 'bestdavid.ru'. Adding certificate verification is strongly advised. See: https://urllib3.readthedocs.io/en/latest/advanced-usage.html#tls-warnings\n",
      "  warnings.warn(\n"
     ]
    }
   ],
   "source": [
    "nest_asyncio.apply()\n",
    "\n",
    "with open('token.txt') as file:\n",
    "    API_TOKEN=file.readline()\n",
    "    \n",
    "users = [287157997]\n",
    " \n",
    "bot = Bot(token=API_TOKEN)\n",
    "dp = Dispatcher(bot)\n",
    "\n",
    "def status(supp_text=''):\n",
    "    \n",
    "    url = 'https://bestdavid.ru'\n",
    "    resp = req.get(url, verify=False)\n",
    "    soup = BeautifulSoup(resp.text, \"html.parser\")\n",
    "\n",
    "    title=soup.find_all('title')\n",
    "    flag=None\n",
    "    error=None\n",
    "    try:\n",
    "        t = title[0].text\n",
    "        if 'Jupyter Server'==t:\n",
    "            flag=True\n",
    "        else:\n",
    "            flag=False\n",
    "    except Exception as e:\n",
    "        flag=False\n",
    "        error=e\n",
    "    \n",
    "    res=subprocess.run('wsl -e bash -c \" ps ax | grep \"/bin/bash ./jupyter_start.sh\"\" ', capture_output=True)\n",
    "    stdout=res.stdout.decode('utf-8')\n",
    "    grep_flag=False\n",
    "\n",
    "    if \"/bin/bash ./jupyter_start.sh\" in stdout:\n",
    "        grep_flag=True\n",
    "        \n",
    "    if flag:\n",
    "        text='Jupyter server web status: WORKS\\n'\n",
    "    else:\n",
    "        text=f'Jupyter server web status: BROKEN\\nError{error}\\n'\n",
    "    \n",
    "    text=text+f'Jupyter server process status: {grep_flag}\\n'\n",
    "    text=text+'\\n'+stdout\n",
    "    \n",
    "    return text\n",
    "                \n",
    "@dp.message_handler(commands=['status'])\n",
    "async def send_status(message: types.Message, supp_text=''):\n",
    "    \n",
    "    if message.chat.id not in users:\n",
    "        await message.answer('Access restricted')\n",
    "    else:\n",
    "        text=status()\n",
    "        await message.answer(text)\n",
    "\n",
    "            \n",
    "\n",
    "        \n",
    "@dp.message_handler(commands=['start'])\n",
    "async def send_start(message: types.Message):\n",
    "    if message.chat.id not in users:\n",
    "        await message.answer('Access restricted')\n",
    "    else:\n",
    "        process=subprocess.Popen(f'jupyter_wsl.bat', cwd='D:/python/home_bot/')\n",
    "        text=status()\n",
    "        await message.answer('Server started')\n",
    "        await message.answer(text)\n",
    "        \n",
    "        \n",
    "@dp.message_handler(commands=['stop'])\n",
    "async def send_stop(message: types.Message):\n",
    "    if message.chat.id not in users:\n",
    "        await message.answer('Access restricted')\n",
    "    else:\n",
    "        with open('wsl_jupyter_stop.txt') as file:\n",
    "            commands=file.readline()\n",
    "        subprocess.run(commands)\n",
    "        \n",
    "        text=status()\n",
    "        await message.answer('Server stopped')\n",
    "        await message.answer(text)\n",
    "\n",
    "if __name__ == '__main__':\n",
    "    executor.start_polling(dp, skip_updates=True)"
   ]
  },
  {
   "cell_type": "code",
   "execution_count": null,
   "id": "2bb8fa2e-3e36-4842-b298-0fb317af29b1",
   "metadata": {
    "tags": []
   },
   "outputs": [],
   "source": [
    "# process=subprocess.Popen(f'start cmd /k {batch_file_path}', shell=True)\n",
    "process=subprocess.Popen(f'jupyter_wsl.bat', cwd='D:/python/home_bot/')\n"
   ]
  },
  {
   "cell_type": "code",
   "execution_count": 20,
   "id": "fd96063a-fc26-414b-8bd6-77aeb220fa0a",
   "metadata": {
    "tags": []
   },
   "outputs": [
    {
     "data": {
      "text/plain": [
       "CompletedProcess(args='wsl -e bash -c \" ps ax | grep \"/bin/bash ./jupyter_start.sh\"\" ', returncode=0, stdout=b'    235 ?        Ss     0:00 /bin/bash /snap/ubuntu-desktop-installer/1286/bin/subiquity-server\\n 218069 pts/4    Ss+    0:00 bash -c  ps ax | grep /bin/bash ./jupyter_start.sh\\n 218071 pts/4    S+     0:00 grep /bin/bash\\n', stderr=b'your 131072x1 screen size is bogus. expect trouble\\n')"
      ]
     },
     "execution_count": 20,
     "metadata": {},
     "output_type": "execute_result"
    }
   ],
   "source": [
    "res=subprocess.run('wsl -e bash -c \" ps ax | grep \"/bin/bash ./jupyter_start.sh\"\" ', capture_output=True)\n",
    "\n",
    "res"
   ]
  },
  {
   "cell_type": "code",
   "execution_count": 25,
   "id": "1d095ec2-4d3c-421c-8a6a-3f309983384b",
   "metadata": {
    "tags": []
   },
   "outputs": [
    {
     "name": "stdout",
     "output_type": "stream",
     "text": [
      "    235 ?        Ss     0:00 /bin/bash /snap/ubuntu-desktop-installer/1286/bin/subiquity-server\n",
      " 218069 pts/4    Ss+    0:00 bash -c  ps ax | grep /bin/bash ./jupyter_start.sh\n",
      " 218071 pts/4    S+     0:00 grep /bin/bash\n",
      "\n",
      "True\n"
     ]
    }
   ],
   "source": [
    "stdout=res.stdout.decode('utf-8')\n",
    "flag=False\n",
    "\n",
    "print(res.stdout.decode('utf-8'))\n",
    "if \"/bin/bash ./jupyter_start.sh\" in stdout:\n",
    "    flag=True\n",
    "\n",
    "print(flag)"
   ]
  }
 ],
 "metadata": {
  "kernelspec": {
   "display_name": "torch",
   "language": "python",
   "name": "torch"
  },
  "language_info": {
   "codemirror_mode": {
    "name": "ipython",
    "version": 3
   },
   "file_extension": ".py",
   "mimetype": "text/x-python",
   "name": "python",
   "nbconvert_exporter": "python",
   "pygments_lexer": "ipython3",
   "version": "3.11.5"
  }
 },
 "nbformat": 4,
 "nbformat_minor": 5
}
