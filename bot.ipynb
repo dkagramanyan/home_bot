{
 "cells": [
  {
   "cell_type": "code",
   "execution_count": null,
   "id": "5d614388-665b-47f1-800f-0060e8b3ce32",
   "metadata": {
    "tags": []
   },
   "outputs": [],
   "source": [
    "from aiogram import Bot, Dispatcher, executor, types\n",
    "import nest_asyncio\n",
    "import os\n",
    "\n",
    "import requests as req\n",
    "from bs4 import BeautifulSoup\n",
    "\n",
    "import os\n",
    "import signal\n",
    "import subprocess\n",
    "import psutil\n",
    "import time\n",
    "from datetime import datetime, timedelta\n",
    "\n",
    "nest_asyncio.apply()\n",
    "\n",
    "with open('token.txt') as file:\n",
    "    API_TOKEN=file.readline()\n",
    "    \n",
    "users = [287157997]\n",
    "CHAT_ID=users[0]\n",
    " \n",
    "bot = Bot(token=API_TOKEN)\n",
    "dp = Dispatcher(bot)\n",
    "\n",
    "commands='/status\\n/start\\n/stop\\n/reboot'\n",
    "\n",
    "def status(supp_text=''):\n",
    "    \n",
    "    url = 'https://bestdavid.ru'\n",
    "    flag=None\n",
    "    error=None\n",
    "    try:\n",
    "        resp = req.get(url, verify=False)\n",
    "        soup = BeautifulSoup(resp.text, \"html.parser\")\n",
    "\n",
    "        title=soup.find_all('title')\n",
    "        t = title[0].text\n",
    "        if 'Jupyter Server'==t:\n",
    "            flag=True\n",
    "            \n",
    "    except Exception as e:\n",
    "        flag=False\n",
    "        error=e\n",
    "    \n",
    "    # res=subprocess.run('wsl -e bash -c \" ps ax | grep \"/bin/bash ./jupyter_start.sh\"\" ', capture_output=True)\n",
    "    res=subprocess.run('wsl -e bash -c \" ps ax | grep \"./jupyter_start.sh\"\" ', capture_output=True)\n",
    "    stdout=res.stdout.decode('utf-8')\n",
    "    grep_flag=False\n",
    "\n",
    "    if \"/bin/bash ./jupyter_start.sh\" in stdout:\n",
    "        grep_flag=True\n",
    "        \n",
    "\n",
    "    text=f'Https web status:      {flag}\\n'\n",
    "    text=text+f'Jupyter server process status:      {grep_flag}\\n'\n",
    "    text=text+'\\nProcesses:\\n\\n'+stdout\n",
    "    \n",
    "    text=text+f'\\nErrors: {error}\\n'\n",
    "    \n",
    "    d = timedelta(seconds= time.time() - psutil.boot_time() )\n",
    "    text=text + f'\\nUptime windows {d.days:02d}:{d.seconds//3600:02d}:{(d.seconds//60)%60:02d}:{d.seconds % 60:02}\\n'\n",
    "    \n",
    "    text=text+ f'\\n{commands}\\n'\n",
    "    \n",
    "    return text\n",
    "                \n",
    "@dp.message_handler(commands=['status'])\n",
    "async def send_status(message: types.Message, supp_text=''):\n",
    "    \n",
    "    if message.chat.id not in users:\n",
    "        await message.answer('Access restricted')\n",
    "    else:\n",
    "        await message.answer('Collecting status info')\n",
    "        text=status()\n",
    "        await message.answer(text)\n",
    "\n",
    "        \n",
    "@dp.message_handler(commands=['start'])\n",
    "async def send_start(message: types.Message):\n",
    "    if message.chat.id not in users:\n",
    "        await message.answer('Access restricted')\n",
    "    else:\n",
    "        await message.answer('Server starting')\n",
    "        process=subprocess.Popen(f'jupyter_wsl.bat', cwd='D:/python/home_bot/')\n",
    "        time.sleep(2)\n",
    "        text=status()\n",
    "        await message.answer('Server started')\n",
    "        await message.answer(text)\n",
    "        \n",
    "        \n",
    "@dp.message_handler(commands=['stop'])\n",
    "async def send_stop(message: types.Message):\n",
    "    if message.chat.id not in users:\n",
    "        await message.answer('Access restricted')\n",
    "    else:\n",
    "        await message.answer('Server stopping')\n",
    "        with open('wsl_jupyter_stop.txt') as file:\n",
    "            commands=file.readline()\n",
    "        subprocess.run(commands)\n",
    "        \n",
    "        text=status()\n",
    "        await message.answer('Server stopped')\n",
    "        await message.answer(text)\n",
    "        \n",
    "@dp.message_handler(commands=['reboot'])\n",
    "async def send_reboot(message: types.Message):\n",
    "    if message.chat.id not in users:\n",
    "        await message.answer('Access restricted')\n",
    "    else:\n",
    "        await message.answer('Windows machine is rebooting. Expected time to turn on the bot 5 min')\n",
    "        subprocess.run('shutdown /r /t 0')\n",
    "        await message.answer('Reboot command is successful')\n",
    "\n",
    "        \n",
    "async def on_startup(dp):\n",
    "    # Send a message when the bot starts\n",
    "    text=\"Bot has started\"\n",
    "    text=text+ f'\\n\\n{commands}\\n'\n",
    "    await bot.send_message(chat_id=CHAT_ID, text=text)\n",
    "\n",
    "if __name__ == '__main__':\n",
    "    executor.start_polling(dp, skip_updates=True, on_startup=on_startup)"
   ]
  },
  {
   "cell_type": "code",
   "execution_count": 3,
   "id": "a7ad89d3-c67c-490b-a653-dbd8b4aa9cc8",
   "metadata": {
    "tags": []
   },
   "outputs": [],
   "source": [
    "from aiogram import Bot, Dispatcher, executor, types\n",
    "import nest_asyncio\n",
    "import os\n",
    "\n",
    "import requests as req\n",
    "from bs4 import BeautifulSoup\n",
    "\n",
    "import os\n",
    "import signal\n",
    "import subprocess\n",
    "import psutil\n",
    "import time\n",
    "from datetime import datetime, timedelta"
   ]
  },
  {
   "cell_type": "code",
   "execution_count": null,
   "id": "a56e7ba6-4b88-4366-89ea-af44a5ce5e48",
   "metadata": {},
   "outputs": [],
   "source": [
    "import win32api"
   ]
  },
  {
   "cell_type": "code",
   "execution_count": 7,
   "id": "9a0ce81c-5011-49d5-97d9-de98cdd056c9",
   "metadata": {
    "tags": []
   },
   "outputs": [
    {
     "data": {
      "text/plain": [
       "' 22:29:23 up 39 min,  1 user,  load average: 0.12, 0.14, 0.05\\n'"
      ]
     },
     "execution_count": 7,
     "metadata": {},
     "output_type": "execute_result"
    }
   ],
   "source": [
    "res=subprocess.run('shutdowb /r', capture_output=True)\n",
    "stdout=res.stdout.decode('utf-8')\n",
    "stdout"
   ]
  },
  {
   "cell_type": "code",
   "execution_count": 3,
   "id": "47077abe-8edf-4db9-b321-3933f30ebe7b",
   "metadata": {
    "tags": []
   },
   "outputs": [
    {
     "name": "stdout",
     "output_type": "stream",
     "text": [
      "0:53:59.838140\n"
     ]
    }
   ],
   "source": [
    "def seconds_elapsed():\n",
    "    return time.time() - psutil.boot_time()\n",
    "\n",
    "sec = timedelta(seconds=seconds_elapsed())\n",
    "uptime = str(sec)\n",
    "\n",
    "print(uptime)"
   ]
  },
  {
   "cell_type": "code",
   "execution_count": 18,
   "id": "9c599762-f090-4ef1-9212-d871705e2cd2",
   "metadata": {
    "tags": []
   },
   "outputs": [
    {
     "data": {
      "text/plain": [
       "'\\nUptime windows 00:01:02:13\\n'"
      ]
     },
     "execution_count": 18,
     "metadata": {},
     "output_type": "execute_result"
    }
   ],
   "source": [
    "d = timedelta(seconds= time.time() - psutil.boot_time() )\n",
    "f'\\nUptime windows {d.days:02d}:{d.seconds//3600:02d}:{(d.seconds//60)%60:02d}:{d.seconds % 60:02}\\n'"
   ]
  },
  {
   "cell_type": "code",
   "execution_count": null,
   "id": "2bb8fa2e-3e36-4842-b298-0fb317af29b1",
   "metadata": {
    "tags": []
   },
   "outputs": [],
   "source": [
    "# process=subprocess.Popen(f'start cmd /k {batch_file_path}', shell=True)\n",
    "process=subprocess.Popen(f'jupyter_wsl.bat', cwd='D:/python/home_bot/')\n"
   ]
  },
  {
   "cell_type": "code",
   "execution_count": null,
   "id": "fd96063a-fc26-414b-8bd6-77aeb220fa0a",
   "metadata": {
    "tags": []
   },
   "outputs": [],
   "source": [
    "res=subprocess.run('wsl -e bash -c \" ps ax | grep \"/bin/bash ./jupyter_start.sh\"\" ', capture_output=True)\n",
    "\n",
    "res"
   ]
  },
  {
   "cell_type": "code",
   "execution_count": null,
   "id": "1d095ec2-4d3c-421c-8a6a-3f309983384b",
   "metadata": {
    "tags": []
   },
   "outputs": [],
   "source": [
    "stdout=res.stdout.decode('utf-8')\n",
    "flag=False\n",
    "\n",
    "print(res.stdout.decode('utf-8'))\n",
    "if \"/bin/bash ./jupyter_start.sh\" in stdout:\n",
    "    flag=True\n",
    "\n",
    "print(flag)"
   ]
  }
 ],
 "metadata": {
  "kernelspec": {
   "display_name": "torch",
   "language": "python",
   "name": "torch"
  },
  "language_info": {
   "codemirror_mode": {
    "name": "ipython",
    "version": 3
   },
   "file_extension": ".py",
   "mimetype": "text/x-python",
   "name": "python",
   "nbconvert_exporter": "python",
   "pygments_lexer": "ipython3",
   "version": "3.11.9"
  }
 },
 "nbformat": 4,
 "nbformat_minor": 5
}
