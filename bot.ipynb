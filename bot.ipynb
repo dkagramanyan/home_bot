{
 "cells": [
  {
   "cell_type": "code",
   "execution_count": null,
   "id": "f025dcc1-2e25-4a04-95ea-fab5b06e41bc",
   "metadata": {
    "tags": []
   },
   "outputs": [],
   "source": [
    "from aiogram import Bot, Dispatcher, executor, types\n",
    "import nest_asyncio\n",
    "import os\n",
    "\n",
    "import requests as req\n",
    "from bs4 import BeautifulSoup\n",
    "\n",
    "import os\n",
    "import signal\n",
    "import subprocess\n",
    "import psutil"
   ]
  },
  {
   "cell_type": "code",
   "execution_count": null,
   "id": "09e8cb24-a0da-4257-ab15-140b1693d693",
   "metadata": {
    "tags": []
   },
   "outputs": [],
   "source": [
    "nest_asyncio.apply()\n",
    " \n",
    "API_TOKEN = '7274907913:AAEVKVxPaF3KDYd-C7_neOBuEpbv1ywcjq8'\n",
    "users = [287157997]\n",
    " \n",
    "bot = Bot(token=API_TOKEN)\n",
    "dp = Dispatcher(bot)\n",
    "\n",
    "def status(supp_text=''):\n",
    "    \n",
    "    url = 'https://bestdavid.ru'\n",
    "    resp = req.get(url, verify=False)\n",
    "    soup = BeautifulSoup(resp.text, \"html.parser\")\n",
    "\n",
    "    title=soup.find_all('title')\n",
    "    flag=None\n",
    "    error=None\n",
    "    try:\n",
    "        t = title[0].text\n",
    "        if 'Jupyter Server'==t:\n",
    "            flag=True\n",
    "        else:\n",
    "            flag=False\n",
    "    except Exception as e:\n",
    "        flag=False\n",
    "        error=e\n",
    "        \n",
    "    if flag:\n",
    "        text='Jupyter server status: WORKS'\n",
    "    else:\n",
    "        text=f'Jupyter server status: BROKEN\\nError{error}'\n",
    "        \n",
    "    return text\n",
    "                \n",
    "@dp.message_handler(commands=['status'])\n",
    "async def send_status(message: types.Message, supp_text=''):\n",
    "    \n",
    "    if message.chat.id not in users:\n",
    "        await message.answer('Access restricted')\n",
    "    else:\n",
    "        text=status(message)\n",
    "        await message.answer(text, parse_mode=\"MarkdownV2\")\n",
    "\n",
    "            \n",
    "\n",
    "        \n",
    "@dp.message_handler(commands=['start'])\n",
    "async def send_start(message: types.Message):\n",
    "    if message.chat.id not in users:\n",
    "        await message.answer('Access restricted')\n",
    "    else:\n",
    "        process=subprocess.Popen(f'jupyter_wsl.bat', cwd='D:/python/home_bot/')\n",
    "        text=status()\n",
    "        await message.answer('Server started')\n",
    "        await message.answer(text)\n",
    "        \n",
    "        \n",
    "@dp.message_handler(commands=['stop'])\n",
    "async def send_stop(message: types.Message):\n",
    "    if message.chat.id not in users:\n",
    "        await message.answer('Access restricted')\n",
    "    else:\n",
    "        with open('wsl_jupyter_stop.txt') as file:\n",
    "            commands=file.readline()\n",
    "        subprocess.run(commands)\n",
    "        \n",
    "        text=status()\n",
    "        await message.answer('Server stopped')\n",
    "        await message.answer(text)\n",
    "\n",
    "if __name__ == '__main__':\n",
    "    executor.start_polling(dp, skip_updates=True)"
   ]
  },
  {
   "cell_type": "code",
   "execution_count": null,
   "id": "2bb8fa2e-3e36-4842-b298-0fb317af29b1",
   "metadata": {
    "tags": []
   },
   "outputs": [],
   "source": [
    "# process=subprocess.Popen(f'start cmd /k {batch_file_path}', shell=True)\n",
    "process=subprocess.Popen(f'jupyter_wsl.bat', cwd='D:/python/home_bot/')\n"
   ]
  },
  {
   "cell_type": "code",
   "execution_count": null,
   "id": "fd96063a-fc26-414b-8bd6-77aeb220fa0a",
   "metadata": {
    "tags": []
   },
   "outputs": [],
   "source": [
    "res=subprocess.run('wsl -e bash -c \" ls \" ')"
   ]
  },
  {
   "cell_type": "code",
   "execution_count": null,
   "id": "8b3c2534-f68a-43e9-86ab-4dcb719fd51e",
   "metadata": {
    "tags": []
   },
   "outputs": [],
   "source": [
    "res.stdout"
   ]
  },
  {
   "cell_type": "code",
   "execution_count": null,
   "id": "d50a62ff-be11-4bb5-8edc-7ce9973336ac",
   "metadata": {
    "tags": []
   },
   "outputs": [],
   "source": [
    "ls = subprocess.run(['pwd'], capture_output=True, text=True).stdout.strip(\"\\n\")\n",
    "print(ls)"
   ]
  },
  {
   "cell_type": "code",
   "execution_count": null,
   "id": "052efec1-e749-430f-a506-eb5daf03ee9e",
   "metadata": {
    "tags": []
   },
   "outputs": [],
   "source": [
    "with open('wsl_jupyter_stop.txt') as file:\n",
    "    commands=file.readline()\n",
    "\n",
    "subprocess.run(commands)"
   ]
  }
 ],
 "metadata": {
  "kernelspec": {
   "display_name": "torch",
   "language": "python",
   "name": "torch"
  },
  "language_info": {
   "codemirror_mode": {
    "name": "ipython",
    "version": 3
   },
   "file_extension": ".py",
   "mimetype": "text/x-python",
   "name": "python",
   "nbconvert_exporter": "python",
   "pygments_lexer": "ipython3",
   "version": "3.11.5"
  }
 },
 "nbformat": 4,
 "nbformat_minor": 5
}
