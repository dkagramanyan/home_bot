{
 "cells": [
  {
   "cell_type": "code",
   "execution_count": null,
   "id": "5d614388-665b-47f1-800f-0060e8b3ce32",
   "metadata": {
    "tags": []
   },
   "outputs": [
    {
     "name": "stderr",
     "output_type": "stream",
     "text": [
      "Updates were skipped successfully.\n"
     ]
    }
   ],
   "source": [
    "from aiogram import Bot, Dispatcher, executor, types\n",
    "import nest_asyncio\n",
    "import os\n",
    "\n",
    "import requests as req\n",
    "from bs4 import BeautifulSoup\n",
    "\n",
    "import os\n",
    "import signal\n",
    "import subprocess\n",
    "import psutil\n",
    "import time\n",
    "from datetime import datetime, timedelta\n",
    "from subprocess import check_output, STDOUT\n",
    "import re\n",
    "\n",
    "nest_asyncio.apply()\n",
    "\n",
    "with open('token.txt') as file:\n",
    "    API_TOKEN=file.readline()\n",
    "    \n",
    "users = [287157997]\n",
    "CHAT_ID=users[0]\n",
    " \n",
    "bot = Bot(token=API_TOKEN)\n",
    "dp = Dispatcher(bot)\n",
    "\n",
    "commands='/status\\n/start_lab\\n/stop_lab\\n/start_hub\\n/stop_hub\\n/reboot_windows'\n",
    "\n",
    "def status(supp_text=''):\n",
    "    \n",
    "    url = 'https://bestdavid.ru'\n",
    "    flag=None\n",
    "    error=None\n",
    "    try:\n",
    "        resp = req.get(url, verify=False)\n",
    "        soup = BeautifulSoup(resp.text, \"html.parser\")\n",
    "\n",
    "        title=soup.find_all('title')\n",
    "        t = title[0].text\n",
    "        if 'Jupyter Server'==t:\n",
    "            flag=True\n",
    "            \n",
    "    except Exception as e:\n",
    "        flag=False\n",
    "        error=e\n",
    "    \n",
    "    text=f'Https JupyterLab status:      {flag}\\n'\n",
    "    \n",
    "    search_name=\"/bin/jupyter-lab\"\n",
    "    res=subprocess.run(f'wsl -e bash -c \"ps ax | grep \"{search_name}\" \" ', capture_output=True)\n",
    "    stdout=res.stdout.decode('utf-8')\n",
    "    grep_flag=False\n",
    "    \n",
    "    if search_name in stdout:\n",
    "        grep_flag=True\n",
    "\n",
    "    # text=text+f'\\nJupyterLab process status:      {grep_flag}\\n'\n",
    "    text=text+f'\\nProcesses for {search_name} grep:\\n\\n'+stdout\n",
    "    \n",
    "    search_name=\"/bin/jupyterhub\"\n",
    "    res=subprocess.run(f'wsl -e bash -c \"ps ax | grep \"{search_name}\" \" ', capture_output=True)\n",
    "    stdout=res.stdout.decode('utf-8')\n",
    "    grep_flag=False\n",
    "    \n",
    "    if search_name in stdout:\n",
    "        grep_flag=True\n",
    "\n",
    "    # text=text+f'\\nJupyterHub process status:      {grep_flag}\\n'\n",
    "    text=text+f'\\nProcesses for {search_name} grep:\\n\\n'+stdout\n",
    "    \n",
    "    text=text+f'\\nErrors: {error}\\n'\n",
    "    \n",
    "    d = timedelta(seconds= time.time() - psutil.boot_time() )\n",
    "    text=text + f'\\nUptime windows {d.days:02d}:{d.seconds//3600:02d}:{(d.seconds//60)%60:02d}:{d.seconds % 60:02}\\n'\n",
    "    \n",
    "    res=subprocess.run('wmic ComputerSystem get TotalPhysicalMemory', capture_output=True).stdout.decode('utf-8')\n",
    "    res=int(re.sub(\"[^0-9]\", \"\", res))\n",
    "    total_memory=int(res)/(1024**3)\n",
    "    \n",
    "    res=subprocess.run('wmic OS get FreePhysicalMemory', capture_output=True).stdout.decode('utf-8')\n",
    "    res=int(re.sub(\"[^0-9]\", \"\", res))\n",
    "    available_memory=int(res)/(1024**2)\n",
    "    \n",
    "    available_windows_memory=total_memory-available_memory\n",
    "    \n",
    "    text=text+ f'\\nTotal windows memory: {total_memory:.2f} GiB'\n",
    "    text=text+ f'\\nAvailable  windows memory: {available_memory:.2f} GiB'\n",
    "    text=text+ f'\\nUsed  windows memory: {available_windows_memory:.2f} GiB\\n'\n",
    "    \n",
    "    res=subprocess.run('wsl -e bash -c \"echo $(($(getconf _PHYS_PAGES) * $(getconf PAGE_SIZE) / (1024 * 1024)))\" ', capture_output=True)\n",
    "    total_memory=int(res.stdout.decode('utf-8'))/1024\n",
    "    \n",
    "    # res=subprocess.run('wsl -e bash -c \"echo $(($(getconf _AVPHYS_PAGES) * $(getconf PAGE_SIZE) / (1024 * 1024)))\" ', capture_output=True)\n",
    "    # available_memory=int(res.stdout.decode('utf-8'))/1024\n",
    "    res = subprocess.run(['wsl', '-e', 'bash', '-c', 'ps -eo rss | awk \\'{sum+=$1} END {print sum/1024}\\''], capture_output=True, text=True)\n",
    "    available_memory = int(res.stdout.split('.')[0])/1024\n",
    "    \n",
    "    text=text+ f'\\nTotal wsl memory: {total_memory:.2f} GiB'\n",
    "    text=text+ f'\\nAvailable  wsl memory: {available_memory:.2f} GiB'\n",
    "    text=text+ f'\\nUsed  wsl memory: {(total_memory-available_memory):.2f} GiB\\n'\n",
    "    \n",
    "    # works incorrect\n",
    "    # text=text+ f'\\nOnly windows used memory: {(available_windows_memory-total_memory+available_memory):.2f} GiB\\n'\n",
    "    \n",
    "    text=text+ f'\\n{commands}\\n'\n",
    "    \n",
    "    return text\n",
    "                \n",
    "@dp.message_handler(commands=['status'])\n",
    "async def send_status(message: types.Message, supp_text=''):\n",
    "    \n",
    "    if message.chat.id not in users:\n",
    "        await message.answer('Access restricted')\n",
    "    else:\n",
    "        await message.answer('Collecting status info')\n",
    "        text=status()\n",
    "        await message.answer(text)\n",
    "\n",
    "        \n",
    "@dp.message_handler(commands=['start_lab'])\n",
    "async def send_start(message: types.Message):\n",
    "    if message.chat.id not in users:\n",
    "        await message.answer('Access restricted')\n",
    "    else:\n",
    "        await message.answer('JupyterLab server starting')\n",
    "        # process=subprocess.Popen(f'windows_wsl_jupyterlab_start.bat', cwd='D:/python/home_bot/')\n",
    "        script='@echo off & wsl -e bash -c \"cd; source ~/anaconda3/etc/profile.d/conda.sh; conda activate torch; jupyter lab\"'\n",
    "\n",
    "        subprocess.Popen('cmd.exe /k ' + script)\n",
    "        time.sleep(2)\n",
    "        text=status()\n",
    "        await message.answer('JupyterLab server started')\n",
    "        await message.answer(text)\n",
    "        \n",
    "        \n",
    "@dp.message_handler(commands=['stop_lab'])\n",
    "async def send_stop(message: types.Message):\n",
    "    if message.chat.id not in users:\n",
    "        await message.answer('Access restricted')\n",
    "    else:\n",
    "        await message.answer('JupyterLab server stopping')\n",
    "        subprocess.run('wsl -e bash -c \"kill $(ps aux | grep \\'jupyter-lab\\' | awk \\'{print $2}\\')\"')\n",
    "        text=status()\n",
    "        await message.answer('JupyterLab server stopped')\n",
    "        await message.answer(text)\n",
    "        \n",
    "@dp.message_handler(commands=['start_hub'])\n",
    "async def send_start(message: types.Message):\n",
    "    if message.chat.id not in users:\n",
    "        await message.answer('Access restricted')\n",
    "    else:\n",
    "        await message.answer('JupyterHub server starting')\n",
    "        script='@echo off & wsl -e bash -c \"cd; source ~/anaconda3/etc/profile.d/conda.sh; conda activate torch; jupyterhub\"'\n",
    "        subprocess.Popen('cmd.exe /k ' + script)\n",
    "        time.sleep(2)\n",
    "        text=status()\n",
    "        await message.answer('JupyterHub server started')\n",
    "        await message.answer(text)\n",
    "        \n",
    "        \n",
    "@dp.message_handler(commands=['stop_hub'])\n",
    "async def send_stop(message: types.Message):\n",
    "    if message.chat.id not in users:\n",
    "        await message.answer('Access restricted')\n",
    "    else:\n",
    "        await message.answer('JupyterHub server stopping')\n",
    "        subprocess.run('wsl -e bash -c \"kill $(ps aux | grep \\'jupyterhub\\' | awk \\'{print $2}\\')\"')\n",
    "        text=status()\n",
    "        await message.answer('JupyterHub server stopped')\n",
    "        await message.answer(text)\n",
    "        \n",
    "@dp.message_handler(commands=['reboot_windows'])\n",
    "async def send_reboot(message: types.Message):\n",
    "    if message.chat.id not in users:\n",
    "        await message.answer('Access restricted')\n",
    "    else:\n",
    "        await message.answer('Windows machine is rebooting. Expected time to turn on the bot 5 min')\n",
    "        subprocess.run('shutdown /r /t 0')\n",
    "        await message.answer('Reboot command is successful')\n",
    "\n",
    "        \n",
    "async def on_startup(dp):\n",
    "    # Send a message when the bot starts\n",
    "    text=\"Bot has started\"\n",
    "    text=text+ f'\\n\\n{commands}\\n'\n",
    "    await bot.send_message(chat_id=CHAT_ID, text=text)\n",
    "\n",
    "if __name__ == '__main__':\n",
    "    executor.start_polling(dp, skip_updates=True, on_startup=on_startup)"
   ]
  },
  {
   "cell_type": "code",
   "execution_count": null,
   "id": "b2809c5d-ee54-4530-9288-12b5cdea474b",
   "metadata": {},
   "outputs": [],
   "source": [
    "ps -eo rss | awk \"{sum+=\\$1} END {print sum/1024}\""
   ]
  },
  {
   "cell_type": "code",
   "execution_count": 3,
   "id": "4e5c2f0f-1def-44d0-ae87-f5699b3a64e9",
   "metadata": {
    "tags": []
   },
   "outputs": [
    {
     "name": "stdout",
     "output_type": "stream",
     "text": [
      "Output: 875.07\n"
     ]
    }
   ],
   "source": [
    "command = 'ps -eo rss | awk \\'{sum+=$1} END {print sum/1024}\\''\n",
    "result = subprocess.run(['wsl', '-e', 'bash', '-c', command], capture_output=True, text=True)\n",
    "\n",
    "if result.returncode == 0:\n",
    "    print(\"Output:\", result.stdout.strip())\n",
    "else:\n",
    "    print(\"Error:\", result.stderr.strip())"
   ]
  },
  {
   "cell_type": "code",
   "execution_count": 11,
   "id": "5d69a208-bf69-4aed-a0f4-ce73e0926b6d",
   "metadata": {
    "tags": []
   },
   "outputs": [
    {
     "data": {
      "text/plain": [
       "0.8642578125"
      ]
     },
     "execution_count": 11,
     "metadata": {},
     "output_type": "execute_result"
    }
   ],
   "source": [
    "import subprocess\n",
    "\n",
    "res = subprocess.run(['wsl', '-e', 'bash', '-c', 'ps -eo rss | awk \\'{sum+=$1} END {print sum/1024}\\''], capture_output=True, text=True)\n",
    "\n",
    "int(res.stdout.split('.')[0])/1024"
   ]
  },
  {
   "cell_type": "code",
   "execution_count": 10,
   "id": "a278a8f1-480e-4eae-a15d-dac55f808046",
   "metadata": {
    "tags": []
   },
   "outputs": [
    {
     "data": {
      "text/plain": [
       "b'29772\\n'"
      ]
     },
     "execution_count": 10,
     "metadata": {},
     "output_type": "execute_result"
    }
   ],
   "source": [
    "subprocess.run('wsl -e bash -c \"echo $(($(getconf _AVPHYS_PAGES) * $(getconf PAGE_SIZE) / (1024 * 1024)))\" ', capture_output=True).stdout"
   ]
  },
  {
   "cell_type": "code",
   "execution_count": null,
   "id": "a7ad89d3-c67c-490b-a653-dbd8b4aa9cc8",
   "metadata": {
    "tags": []
   },
   "outputs": [],
   "source": [
    "from aiogram import Bot, Dispatcher, executor, types\n",
    "import nest_asyncio\n",
    "import os\n",
    "\n",
    "import requests as req\n",
    "from bs4 import BeautifulSoup\n",
    "\n",
    "import os\n",
    "import signal\n",
    "import subprocess\n",
    "import psutil\n",
    "import time\n",
    "from datetime import datetime, timedelta\n",
    "from subprocess import check_output, STDOUT\n",
    "import re"
   ]
  },
  {
   "cell_type": "code",
   "execution_count": null,
   "id": "2bb8fa2e-3e36-4842-b298-0fb317af29b1",
   "metadata": {
    "tags": []
   },
   "outputs": [],
   "source": [
    "# process=subprocess.Popen(f'start cmd /k {batch_file_path}', shell=True)\n",
    "process=subprocess.Popen(f'jupyter_wsl.bat', cwd='D:/python/home_bot/')\n"
   ]
  },
  {
   "cell_type": "code",
   "execution_count": null,
   "id": "fd96063a-fc26-414b-8bd6-77aeb220fa0a",
   "metadata": {
    "tags": []
   },
   "outputs": [],
   "source": [
    "res=subprocess.run('wsl -e bash -c \" ps ax | grep \"/bin/bash ./jupyter_start.sh\"\" ', capture_output=True)\n",
    "\n",
    "res"
   ]
  },
  {
   "cell_type": "code",
   "execution_count": null,
   "id": "1d095ec2-4d3c-421c-8a6a-3f309983384b",
   "metadata": {
    "tags": []
   },
   "outputs": [],
   "source": [
    "stdout=res.stdout.decode('utf-8')\n",
    "flag=False\n",
    "\n",
    "print(res.stdout.decode('utf-8'))\n",
    "if \"/bin/bash ./jupyter_start.sh\" in stdout:\n",
    "    flag=True\n",
    "\n",
    "print(flag)"
   ]
  }
 ],
 "metadata": {
  "kernelspec": {
   "display_name": "torch",
   "language": "python",
   "name": "torch"
  },
  "language_info": {
   "codemirror_mode": {
    "name": "ipython",
    "version": 3
   },
   "file_extension": ".py",
   "mimetype": "text/x-python",
   "name": "python",
   "nbconvert_exporter": "python",
   "pygments_lexer": "ipython3",
   "version": "3.11.5"
  }
 },
 "nbformat": 4,
 "nbformat_minor": 5
}
