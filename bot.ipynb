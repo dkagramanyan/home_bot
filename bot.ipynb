{
 "cells": [
  {
   "cell_type": "code",
   "execution_count": null,
   "id": "5d614388-665b-47f1-800f-0060e8b3ce32",
   "metadata": {
    "tags": []
   },
   "outputs": [
    {
     "name": "stderr",
     "output_type": "stream",
     "text": [
      "Polling is stopped.\n",
      "Updates were skipped successfully.\n",
      "C:\\anaconda3\\envs\\torch\\Lib\\site-packages\\urllib3\\connectionpool.py:1103: InsecureRequestWarning: Unverified HTTPS request is being made to host 'bestdavid.ru'. Adding certificate verification is strongly advised. See: https://urllib3.readthedocs.io/en/latest/advanced-usage.html#tls-warnings\n",
      "  warnings.warn(\n"
     ]
    }
   ],
   "source": [
    "from aiogram import Bot, Dispatcher, executor, types\n",
    "import nest_asyncio\n",
    "import os\n",
    "\n",
    "import requests as req\n",
    "from bs4 import BeautifulSoup\n",
    "\n",
    "import os\n",
    "import signal\n",
    "import subprocess\n",
    "import psutil\n",
    "import time\n",
    "from datetime import datetime, timedelta\n",
    "from subprocess import check_output, STDOUT\n",
    "import re\n",
    "\n",
    "nest_asyncio.apply()\n",
    "\n",
    "with open('token.txt') as file:\n",
    "    API_TOKEN=file.readline()\n",
    "    \n",
    "users = [287157997]\n",
    "CHAT_ID=users[0]\n",
    " \n",
    "bot = Bot(token=API_TOKEN)\n",
    "dp = Dispatcher(bot)\n",
    "\n",
    "commands='/status\\n/start\\n/stop\\n/reboot'\n",
    "\n",
    "def status(supp_text=''):\n",
    "    \n",
    "    url = 'https://bestdavid.ru'\n",
    "    flag=None\n",
    "    error=None\n",
    "    try:\n",
    "        resp = req.get(url, verify=False)\n",
    "        soup = BeautifulSoup(resp.text, \"html.parser\")\n",
    "\n",
    "        title=soup.find_all('title')\n",
    "        t = title[0].text\n",
    "        if 'Jupyter Server'==t:\n",
    "            flag=True\n",
    "            \n",
    "    except Exception as e:\n",
    "        flag=False\n",
    "        error=e\n",
    "    \n",
    "    # res=subprocess.run('wsl -e bash -c \" ps ax | grep \"/bin/bash ./jupyter_start.sh\"\" ', capture_output=True)\n",
    "    res=subprocess.run('wsl -e bash -c \" ps ax | grep \"./jupyter_start.sh\"\" ', capture_output=True)\n",
    "    stdout=res.stdout.decode('utf-8')\n",
    "    grep_flag=False\n",
    "\n",
    "    if \"/bin/bash ./jupyter_start.sh\" in stdout:\n",
    "        grep_flag=True\n",
    "        \n",
    "\n",
    "    text=f'Https web status:      {flag}\\n'\n",
    "    text=text+f'Jupyter server process status:      {grep_flag}\\n'\n",
    "    text=text+'\\nProcesses:\\n\\n'+stdout\n",
    "    \n",
    "    text=text+f'\\nErrors: {error}\\n'\n",
    "    \n",
    "    d = timedelta(seconds= time.time() - psutil.boot_time() )\n",
    "    text=text + f'\\nUptime windows {d.days:02d}:{d.seconds//3600:02d}:{(d.seconds//60)%60:02d}:{d.seconds % 60:02}\\n'\n",
    "    \n",
    "    res=subprocess.run('wmic ComputerSystem get TotalPhysicalMemory', capture_output=True).stdout.decode('utf-8')\n",
    "    res=int(re.sub(\"[^0-9]\", \"\", res))\n",
    "    total_memory=int(res)/(1024**3)\n",
    "    \n",
    "    res=subprocess.run('wmic OS get FreePhysicalMemory', capture_output=True).stdout.decode('utf-8')\n",
    "    res=int(re.sub(\"[^0-9]\", \"\", res))\n",
    "    available_memory=int(res)/(1024**2)\n",
    "    \n",
    "    available_windows_memory=total_memory-available_memory\n",
    "    \n",
    "    text=text+ f'\\nTotal windows memory: {total_memory:.2f} GiB'\n",
    "    text=text+ f'\\nAvailable  windows memory: {available_memory:.2f} GiB'\n",
    "    text=text+ f'\\nUsed  windows memory: {available_windows_memory:.2f} GiB\\n'\n",
    "    \n",
    "    res=subprocess.run('wsl -e bash -c \"echo $(($(getconf _PHYS_PAGES) * $(getconf PAGE_SIZE) / (1024 * 1024)))\" ', capture_output=True)\n",
    "    total_memory=int(res.stdout.decode('utf-8'))/1024\n",
    "    \n",
    "    res=subprocess.run('wsl -e bash -c \"echo $(($(getconf _AVPHYS_PAGES) * $(getconf PAGE_SIZE) / (1024 * 1024)))\" ', capture_output=True)\n",
    "    available_memory=int(res.stdout.decode('utf-8'))/1024\n",
    "    \n",
    "    text=text+ f'\\nTotal wsl memory: {total_memory:.2f} GiB'\n",
    "    text=text+ f'\\nAvailable  wsl memory: {available_memory:.2f} GiB'\n",
    "    text=text+ f'\\nUsed  wsl memory: {(total_memory-available_memory):.2f} GiB\\n'\n",
    "    \n",
    "    text=text+ f'\\nOnly windows used memory: {(available_windows_memory-total_memory+available_memory):.2f} GiB\\n'\n",
    "    \n",
    "    text=text+ f'\\n{commands}\\n'\n",
    "    \n",
    "    return text\n",
    "                \n",
    "@dp.message_handler(commands=['status'])\n",
    "async def send_status(message: types.Message, supp_text=''):\n",
    "    \n",
    "    if message.chat.id not in users:\n",
    "        await message.answer('Access restricted')\n",
    "    else:\n",
    "        await message.answer('Collecting status info')\n",
    "        text=status()\n",
    "        await message.answer(text)\n",
    "\n",
    "        \n",
    "@dp.message_handler(commands=['start'])\n",
    "async def send_start(message: types.Message):\n",
    "    if message.chat.id not in users:\n",
    "        await message.answer('Access restricted')\n",
    "    else:\n",
    "        await message.answer('Server starting')\n",
    "        process=subprocess.Popen(f'jupyter_wsl.bat', cwd='D:/python/home_bot/')\n",
    "        time.sleep(2)\n",
    "        text=status()\n",
    "        await message.answer('Server started')\n",
    "        await message.answer(text)\n",
    "        \n",
    "        \n",
    "@dp.message_handler(commands=['stop'])\n",
    "async def send_stop(message: types.Message):\n",
    "    if message.chat.id not in users:\n",
    "        await message.answer('Access restricted')\n",
    "    else:\n",
    "        await message.answer('Server stopping')\n",
    "        with open('wsl_jupyter_stop.txt') as file:\n",
    "            commands=file.readline()\n",
    "        subprocess.run(commands)\n",
    "        \n",
    "        text=status()\n",
    "        await message.answer('Server stopped')\n",
    "        await message.answer(text)\n",
    "        \n",
    "@dp.message_handler(commands=['reboot'])\n",
    "async def send_reboot(message: types.Message):\n",
    "    if message.chat.id not in users:\n",
    "        await message.answer('Access restricted')\n",
    "    else:\n",
    "        await message.answer('Windows machine is rebooting. Expected time to turn on the bot 5 min')\n",
    "        subprocess.run('shutdown /r /t 0')\n",
    "        await message.answer('Reboot command is successful')\n",
    "\n",
    "        \n",
    "async def on_startup(dp):\n",
    "    # Send a message when the bot starts\n",
    "    text=\"Bot has started\"\n",
    "    text=text+ f'\\n\\n{commands}\\n'\n",
    "    await bot.send_message(chat_id=CHAT_ID, text=text)\n",
    "\n",
    "if __name__ == '__main__':\n",
    "    executor.start_polling(dp, skip_updates=True, on_startup=on_startup)"
   ]
  },
  {
   "cell_type": "code",
   "execution_count": 45,
   "id": "0abf89c7-fad8-43bd-851d-a053358668eb",
   "metadata": {
    "tags": []
   },
   "outputs": [
    {
     "name": "stdout",
     "output_type": "stream",
     "text": [
      "123.00\n"
     ]
    }
   ],
   "source": [
    "print(f'{123:.2f}')"
   ]
  },
  {
   "cell_type": "code",
   "execution_count": 7,
   "id": "a7ad89d3-c67c-490b-a653-dbd8b4aa9cc8",
   "metadata": {
    "tags": []
   },
   "outputs": [],
   "source": [
    "from aiogram import Bot, Dispatcher, executor, types\n",
    "import nest_asyncio\n",
    "import os\n",
    "\n",
    "import requests as req\n",
    "from bs4 import BeautifulSoup\n",
    "\n",
    "import os\n",
    "import signal\n",
    "import subprocess\n",
    "import psutil\n",
    "import time\n",
    "from datetime import datetime, timedelta\n",
    "from subprocess import check_output, STDOUT\n",
    "import re"
   ]
  },
  {
   "cell_type": "code",
   "execution_count": 41,
   "id": "e9ffcde1-b92e-4147-b495-71a42a9d039f",
   "metadata": {
    "tags": []
   },
   "outputs": [
    {
     "name": "stdout",
     "output_type": "stream",
     "text": [
      " 15:37:58 up 2 days,  3:00,  1 user,  load average: 0.02, 0.03, 0.16\n",
      "\n"
     ]
    }
   ],
   "source": [
    "result = subprocess.run('uptime',capture_output=True)\n",
    "stdout=result.stdout.decode('utf-8')\n",
    "print(stdout)"
   ]
  },
  {
   "cell_type": "code",
   "execution_count": 22,
   "id": "66268845-3104-42c4-b194-9b085334c04c",
   "metadata": {
    "tags": []
   },
   "outputs": [
    {
     "data": {
      "text/plain": [
       "18.60898208618164"
      ]
     },
     "execution_count": 22,
     "metadata": {},
     "output_type": "execute_result"
    }
   ],
   "source": [
    "# res=subprocess.run('wmic ComputerSystem get TotalPhysicalMemory', capture_output=True)\n",
    "res=subprocess.run('wmic OS get FreePhysicalMemory', capture_output=True)\n",
    "stdout=res.stdout.decode('utf-8')\n",
    "stdout=int(re.sub(\"[^0-9]\", \"\", stdout))\n",
    "stdout/(1024**2)"
   ]
  },
  {
   "cell_type": "code",
   "execution_count": null,
   "id": "2bb8fa2e-3e36-4842-b298-0fb317af29b1",
   "metadata": {
    "tags": []
   },
   "outputs": [],
   "source": [
    "# process=subprocess.Popen(f'start cmd /k {batch_file_path}', shell=True)\n",
    "process=subprocess.Popen(f'jupyter_wsl.bat', cwd='D:/python/home_bot/')\n"
   ]
  },
  {
   "cell_type": "code",
   "execution_count": null,
   "id": "fd96063a-fc26-414b-8bd6-77aeb220fa0a",
   "metadata": {
    "tags": []
   },
   "outputs": [],
   "source": [
    "res=subprocess.run('wsl -e bash -c \" ps ax | grep \"/bin/bash ./jupyter_start.sh\"\" ', capture_output=True)\n",
    "\n",
    "res"
   ]
  },
  {
   "cell_type": "code",
   "execution_count": null,
   "id": "1d095ec2-4d3c-421c-8a6a-3f309983384b",
   "metadata": {
    "tags": []
   },
   "outputs": [],
   "source": [
    "stdout=res.stdout.decode('utf-8')\n",
    "flag=False\n",
    "\n",
    "print(res.stdout.decode('utf-8'))\n",
    "if \"/bin/bash ./jupyter_start.sh\" in stdout:\n",
    "    flag=True\n",
    "\n",
    "print(flag)"
   ]
  }
 ],
 "metadata": {
  "kernelspec": {
   "display_name": "torch",
   "language": "python",
   "name": "torch"
  },
  "language_info": {
   "codemirror_mode": {
    "name": "ipython",
    "version": 3
   },
   "file_extension": ".py",
   "mimetype": "text/x-python",
   "name": "python",
   "nbconvert_exporter": "python",
   "pygments_lexer": "ipython3",
   "version": "3.11.5"
  }
 },
 "nbformat": 4,
 "nbformat_minor": 5
}
